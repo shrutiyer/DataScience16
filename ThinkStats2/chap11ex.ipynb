{
 "cells": [
  {
   "cell_type": "markdown",
   "metadata": {},
   "source": [
    "Exercise from Think Stats, 2nd Edition (thinkstats2.com)<br>\n",
    "Allen Downey"
   ]
  },
  {
   "cell_type": "code",
   "execution_count": 4,
   "metadata": {
    "collapsed": false
   },
   "outputs": [],
   "source": [
    "%matplotlib inline"
   ]
  },
  {
   "cell_type": "markdown",
   "metadata": {},
   "source": [
    "Suppose one of your co-workers is expecting a baby and you are participating in an office pool to predict the date of birth. Assuming that bets are placed during the 30th week of pregnancy, what variables could you use to make the best prediction? You should limit yourself to variables that are known before the birth, and likely to be available to the people in the pool. "
   ]
  },
  {
   "cell_type": "code",
   "execution_count": 5,
   "metadata": {
    "collapsed": false
   },
   "outputs": [
    {
     "name": "stdout",
     "output_type": "stream",
     "text": [
      "prglngth 1.0\n",
      "wksgest 0.810466988405\n",
      "agecon 0.781350418865\n",
      "totalwgt_lb 0.125503308033\n",
      "birthwgt_lb 0.120679453558\n",
      "lbw1 0.103838874743\n",
      "mosgest 0.0982884576401\n",
      "prglngth_i 0.0215849926795\n",
      "pregend1 0.00843280219463\n",
      "outcome 0.00787817147659\n",
      "prgoutcome 0.0078466125794\n",
      "canhaver 0.00675998334425\n",
      "datcon01_i 0.00590185285861\n",
      "con1mar1_i 0.00559512377644\n",
      "nbrnaliv 0.00458014116379\n",
      "mar1con1_i 0.00328669224476\n",
      "anynurse 0.00291848398128\n",
      "bfeedwks 0.00256701215881\n",
      "evuseint 0.00216793828297\n",
      "rmarout11_i 0.00216747068096\n",
      "marout11_i 0.00216747068096\n",
      "marcon11_i 0.00216747068096\n",
      "datend02_i 0.00207103036161\n",
      "datcon02_i 0.00207103036161\n",
      "agecon02_i 0.00202887790059\n",
      "ageprg02_i 0.00199128042072\n",
      "paydu 0.00198269210293\n",
      "fmarcon5_i 0.00194217103912\n",
      "cmlastlb_r 0.00190168382203\n",
      "cmlastlb 0.00190168382203\n"
     ]
    }
   ],
   "source": [
    "import nsfg\n",
    "import chap01soln\n",
    "import statsmodels.formula.api as smf\n",
    "\n",
    "df = nsfg.ReadFemPreg()\n",
    "df = df[df.prglngth>30]\n",
    "resp = chap01soln.ReadFemResp()\n",
    "resp.index = resp.caseid\n",
    "join = df.join(resp, on='caseid', rsuffix='_r')\n",
    "\n",
    "t = []\n",
    "for name in join.columns:\n",
    "    try:\n",
    "        if join[name].var() < 1e-7:\n",
    "            continue\n",
    "        formula = 'prglngth ~ agepreg + ' + str(name)\n",
    "        model = smf.ols(formula, data=join)\n",
    "        if model.nobs < len(join)/2:\n",
    "            continue\n",
    "        results = model.fit()\n",
    "    except (ValueError, TypeError):\n",
    "        continue\n",
    "    t.append((results.rsquared, name))\n",
    "    \n",
    "t.sort(reverse=True)\n",
    "for mse, name in t[:30]:\n",
    "    print name, mse"
   ]
  },
  {
   "cell_type": "markdown",
   "metadata": {},
   "source": [
    "Only some of the variables mentioned above have values/ approx. values associated with them. I will probably first find all the information I can get and use those variables. My confidence on the following variables will be the most: agecon (age at time of conception) because the mother's age will differ at most my a month or two if the baby is late or early and canhaver (ability to have another baby)."
   ]
  },
  {
   "cell_type": "markdown",
   "metadata": {},
   "source": [
    "## Clarifying Questions\n",
    "\n",
    "Use this space to ask questions regarding the content covered in the reading. These questions should be restricted to helping you better understand the material. For questions that push beyond what is in the reading, use the next answer field. If you don't have a fully formed question, but are generally having a difficult time with a topic, you can indicate that here as well."
   ]
  },
  {
   "cell_type": "markdown",
   "metadata": {},
   "source": []
  },
  {
   "cell_type": "markdown",
   "metadata": {},
   "source": [
    "## Enrichment Questions\n",
    "\n",
    "Use this space to ask any questions that go beyond (but are related to) the material presented in this reading. Perhaps there is a particular topic you'd like to see covered in more depth. Perhaps you'd like to know how to use a library in a way that wasn't show in the reading. One way to think about this is what additional topics would you want covered in the next class (or addressed in a followup e-mail to the class). I'm a little fuzzy on what stuff will likely go here, so we'll see how things evolve."
   ]
  },
  {
   "cell_type": "markdown",
   "metadata": {},
   "source": []
  },
  {
   "cell_type": "markdown",
   "metadata": {},
   "source": [
    "## Additional Resources / Explorations\n",
    "\n",
    "If you found any useful resources, or tried some useful exercises that you'd like to report please do so here. Let us know what you did, what you learned, and how others can replicate it."
   ]
  },
  {
   "cell_type": "markdown",
   "metadata": {},
   "source": []
  }
 ],
 "metadata": {
  "kernelspec": {
   "display_name": "Python 2",
   "language": "python",
   "name": "python2"
  },
  "language_info": {
   "codemirror_mode": {
    "name": "ipython",
    "version": 2
   },
   "file_extension": ".py",
   "mimetype": "text/x-python",
   "name": "python",
   "nbconvert_exporter": "python",
   "pygments_lexer": "ipython2",
   "version": "2.7.6"
  }
 },
 "nbformat": 4,
 "nbformat_minor": 0
}
